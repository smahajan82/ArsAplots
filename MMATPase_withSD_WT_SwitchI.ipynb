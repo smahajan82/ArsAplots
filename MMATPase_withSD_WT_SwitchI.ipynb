{
 "cells": [
  {
   "cell_type": "code",
   "execution_count": 1,
   "metadata": {},
   "outputs": [],
   "source": [
    "import pandas as pd\n",
    "import numpy as np\n",
    "import matplotlib.pyplot as plt\n",
    "from scipy.optimize import minimize \n",
    "import matplotlib.ticker as ticker\n",
    "from scipy.optimize import curve_fit\n",
    "from matplotlib import rcParams\n",
    "rcParams['text.usetex'] = False\n",
    "\n",
    "# Set the font globally to DejaVu Sans\n",
    "rcParams['font.family'] = 'DejaVu Sans'"
   ]
  },
  {
   "cell_type": "code",
   "execution_count": 2,
   "metadata": {},
   "outputs": [],
   "source": [
    "def michaelis_menten(s, vmax, km):\n",
    "    return (vmax * s) / (km + s)\n"
   ]
  },
  {
   "cell_type": "code",
   "execution_count": 3,
   "metadata": {},
   "outputs": [],
   "source": [
    "\n",
    "# Load the CSV file into a DataFrame\n",
    "data = pd.read_csv('ArsA_WT.csv')\n",
    "data_N = pd.read_csv('ArsA_D46N.csv')\n",
    "data_C = pd.read_csv('ArsA_D364N.csv')\n",
    "data_DM = pd.read_csv('ArsA_DM1.csv')\n",
    "\n",
    "S = data['S'].values\n",
    "\n",
    "# rates in nmol/min/mg\n",
    "rate = data.drop(columns=['S']).values * 1008              \n",
    "rate_DM = data_DM.drop(columns=['S']).values * 587\n",
    "rate_N = data_N.drop(columns=['S']).values * 1008\n",
    "rate_C = data_C.drop(columns=['S']).values * 1008\n",
    "\n",
    "\n",
    "\n",
    "V = rate.mean(axis=1)\n",
    "V_N = rate_N.mean(axis=1)\n",
    "V_DM = rate_DM.mean(axis=1)\n",
    "V_C = rate_C.mean(axis=1)\n",
    "\n",
    "y_sd = rate.std(axis=1)\n",
    "y_sd_N = rate_N.std(axis=1)\n",
    "y_sd_DM = rate_DM.std(axis=1)\n",
    "y_sd_C = rate_C.std(axis=1)"
   ]
  },
  {
   "cell_type": "code",
   "execution_count": 5,
   "metadata": {
    "scrolled": false
   },
   "outputs": [
    {
     "data": {
      "image/png": "[encoded data removed]",
      "text/plain": [
       "<Figure size 432x288 with 1 Axes>"
      ]
     },
     "metadata": {
      "needs_background": "light"
     },
     "output_type": "display_data"
    }
   ],
   "source": [
    "# Define the loss functions for each dataset\n",
    "def loss(theta):\n",
    "    v_max, k_m = theta\n",
    "    v_pred = michaelis_menten(S, v_max, k_m)\n",
    "    return np.sum((V - v_pred)**2)\n",
    "\n",
    "def loss_variant(S, V, theta):\n",
    "    v_max, k_m = theta\n",
    "    v_pred = michaelis_menten(S, v_max, k_m)\n",
    "    return np.sum((V - v_pred)**2)\n",
    "\n",
    "# Optimize parameters for each dataset\n",
    "res = minimize(loss, [0.2, 1])\n",
    "res_N = minimize(lambda theta: loss_variant(S, V_N, theta), [0.2, 1])\n",
    "res_C = minimize(lambda theta: loss_variant(S, V_C, theta), [0.2, 1])\n",
    "res_DM = minimize(lambda theta: loss_variant(S, V_DM, theta), [0.2, 1])\n",
    "\n",
    "# Generate scatter plots with error bars\n",
    "def plot_data_and_fit(S, V, yerr, fit_params, color, label, linestyle='-'):\n",
    "    plt.errorbar(S, V, yerr=yerr, fmt='o', capsize=5, capthick=1, color=color, label=f'{label} SEM')\n",
    "    s_plot = np.linspace(0, 1, 100)\n",
    "    plt.plot(s_plot, michaelis_menten(s_plot, fit_params[0], fit_params[1]), color=color, linestyle=linestyle, linewidth=2)\n",
    "\n",
    "\n",
    "\n",
    "# Plot data and fits using shifted x-values\n",
    "plot_data_and_fit(S, V, y_sd, res.x, 'black', 'WT')\n",
    "plot_data_and_fit(S, V_N, y_sd_N, res_N.x, 'steelblue', 'N')\n",
    "plot_data_and_fit(S, V_C, y_sd_C, res_C.x, 'yellowgreen', 'C')\n",
    "plot_data_and_fit(S, V_DM, y_sd_DM, res_DM.x, 'darkred', 'DM')\n",
    "\n",
    "    \n",
    "# Adjust axis limits to add padding\n",
    "plt.xlim(left=-0.015, right=1)  # Ensure a buffer on the left side\n",
    "plt.ylim(bottom=-2)\n",
    "\n",
    "# Add margins if needed\n",
    "plt.margins(x=0.1)\n",
    "\n",
    "# Remove the top and right spines (edges)\n",
    "plt.gca().spines['top'].set_visible(False)\n",
    "plt.gca().spines['right'].set_visible(False)\n",
    "\n",
    "# Set font size for axis labels (tick values)\n",
    "plt.xticks(fontsize=16)  # Font size for x-axis ticks\n",
    "plt.yticks(fontsize=16)  # Font size for y-axis ticks\n",
    "\n",
    "# Increase stroke width of the spines\n",
    "plt.gca().spines['left'].set_linewidth(2)  # Left spine width\n",
    "plt.gca().spines['bottom'].set_linewidth(2)  # Bottom spine width\n",
    "\n",
    "# Change tick mark line width\n",
    "plt.tick_params(axis='both', width=2, length=6)  # Change the tick mark width to 2\n",
    "\n",
    "# Create a custom formatter for the X-axis labels\n",
    "def custom_format(x, pos):\n",
    "    if x == 0:\n",
    "        return '0'  # For the 0 label, just display 0\n",
    "    else:\n",
    "        return f'{x:.1f}'  # For other ticks, display 1 decimal place\n",
    "\n",
    "# Set the formatter for the x-axis to apply custom formatting\n",
    "plt.gca().xaxis.set_major_formatter(ticker.FuncFormatter(custom_format))\n",
    "\n",
    "# Add labels and save the plot\n",
    "plt.xlabel('Sodium arsenite (mM)', fontsize =16)\n",
    "plt.ylabel('ATPase activity (nmol min\\u207B\\u00B9 mg\\u207B\\u00B9)', fontsize =16)\n",
    "plt.savefig('LfArsA_WT_SwitchI_new.eps', bbox_inches='tight' )\n",
    "plt.show()\n"
   ]
  },
  {
   "cell_type": "code",
   "execution_count": null,
   "metadata": {},
   "outputs": [],
   "source": []
  },
  {
   "cell_type": "code",
   "execution_count": null,
   "metadata": {},
   "outputs": [],
   "source": []
  }
 ],
 "metadata": {
  "kernelspec": {
   "display_name": "Python 3",
   "language": "python",
   "name": "python3"
  },
  "language_info": {
   "codemirror_mode": {
    "name": "ipython",
    "version": 3
   },
   "file_extension": ".py",
   "mimetype": "text/x-python",
   "name": "python",
   "nbconvert_exporter": "python",
   "pygments_lexer": "ipython3",
   "version": "3.8.5"
  }
 },
 "nbformat": 4,
 "nbformat_minor": 4
}
