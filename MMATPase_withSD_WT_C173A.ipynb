{
 "cells": [
  {
   "cell_type": "code",
   "execution_count": 1,
   "metadata": {},
   "outputs": [],
   "source": [
    "import pandas as pd\n",
    "import numpy as np\n",
    "import matplotlib.pyplot as plt\n",
    "from scipy.optimize import minimize \n",
    "import matplotlib.ticker as ticker\n",
    "from scipy.optimize import curve_fit\n",
    "from matplotlib import rcParams\n",
    "rcParams['text.usetex'] = False\n",
    "\n",
    "# Set the font globally to DejaVu Sans\n",
    "rcParams['font.family'] = 'DejaVu Sans'"
   ]
  },
  {
   "cell_type": "code",
   "execution_count": 2,
   "metadata": {},
   "outputs": [],
   "source": [
    "def michaelis_menten(s, vmax, km):\n",
    "    return (vmax * s) / (km + s)\n"
   ]
  },
  {
   "cell_type": "code",
   "execution_count": 3,
   "metadata": {},
   "outputs": [],
   "source": [
    "\n",
    "# Load the CSV file into a DataFrame\n",
    "data = pd.read_csv('ArsA_WT.csv')\n",
    "data_C173A = pd.read_csv('ArsA_C173A.csv')\n",
    "data_TM = pd.read_csv('ArsA_CysTM.csv')\n",
    "\n",
    "S = data['S'].values\n",
    "\n",
    "# rates in nmol/min/mg\n",
    "rate = data.drop(columns=['S']).values * 1008              \n",
    "rate_C173A = data_C173A.drop(columns=['S']).values * 600\n",
    "rate_TM = data_TM.drop(columns=['S']).values * 1008\n",
    "\n",
    "\n",
    "V = rate.mean(axis=1)\n",
    "V_C173A = rate_C173A.mean(axis=1)\n",
    "\n",
    "V_TM = rate_TM.mean(axis=1)\n",
    "\n",
    "y_sd = rate.std(axis=1)\n",
    "y_sd_C173A = rate_C173A.std(axis=1)\n",
    "\n",
    "y_sd_TM = rate_TM.std(axis=1)"
   ]
  },
  {
   "cell_type": "code",
   "execution_count": 4,
   "metadata": {},
   "outputs": [
    {
     "name": "stdout",
     "output_type": "stream",
     "text": [
      "WT Vmax: 117.06227058377829\n",
      "WT Km: 0.15219736337695464\n",
      "C173A Vmax: 276.07970394678586\n",
      "C173A Km: 2.1866834027136615\n"
     ]
    },
    {
     "data": {
      "image/png": "[encoded data removed]",
      "text/plain": [
       "<Figure size 432x288 with 1 Axes>"
      ]
     },
     "metadata": {
      "needs_background": "light"
     },
     "output_type": "display_data"
    }
   ],
   "source": [
    "\n",
    "\n",
    "# Define the loss functions for each dataset\n",
    "def loss(theta):\n",
    "    v_max, k_m = theta\n",
    "    v_pred = michaelis_menten(S, v_max, k_m)\n",
    "    return np.sum((V - v_pred)**2)\n",
    "\n",
    "def loss_variant(S, V, theta):\n",
    "    v_max, k_m = theta\n",
    "    v_pred = michaelis_menten(S, v_max, k_m)\n",
    "    return np.sum((V - v_pred)**2)\n",
    "\n",
    "# Optimize parameters for each dataset\n",
    "res = minimize(loss, [0.2, 1])\n",
    "res_C173A = minimize(lambda theta: loss_variant(S, V_C173A, theta), [0.1, 0.5])\n",
    "res_TM = minimize(lambda theta: loss_variant(S, V_TM, theta), [0.1, 1])\n",
    "\n",
    "# Generate scatter plots with error bars\n",
    "def plot_data_and_fit(S, V, yerr, fit_params, color, label, linestyle='-'):\n",
    "    plt.errorbar(S, V, yerr=yerr, fmt='o', capsize=5, capthick=1, color=color, label=f'{label} SEM')\n",
    "    s_plot = np.linspace(0, 1, 100)\n",
    "    plt.plot(s_plot, michaelis_menten(s_plot, fit_params[0], fit_params[1]), color=color, linestyle=linestyle, linewidth=2)\n",
    "\n",
    "\n",
    "# Plot data and fits using shifted x-values\n",
    "plot_data_and_fit(S, V, y_sd, res.x, 'black', 'WT')\n",
    "plot_data_and_fit(S, V_C173A, y_sd_C173A, res_C173A.x, 'teal', 'C173A')\n",
    "plot_data_and_fit(S, V_TM, y_sd_TM, res_TM.x, 'goldenrod', 'TM')\n",
    "\n",
    "# Adjust axis limits to add padding\n",
    "plt.xlim(left=-0.015, right=1)  # Ensure a buffer on the left side\n",
    "plt.ylim(bottom=-2)\n",
    "\n",
    "# Add margins if needed\n",
    "plt.margins(x=0.1)\n",
    "\n",
    "# Remove the top and right spines (edges)\n",
    "plt.gca().spines['top'].set_visible(False)\n",
    "plt.gca().spines['right'].set_visible(False)\n",
    "\n",
    "# Set font size for axis labels (tick values)\n",
    "plt.xticks(fontsize=16)  # Font size for x-axis ticks\n",
    "plt.yticks(fontsize=16)  # Font size for y-axis ticks\n",
    "\n",
    "# Increase stroke width of the spines\n",
    "plt.gca().spines['left'].set_linewidth(2)  # Left spine width\n",
    "plt.gca().spines['bottom'].set_linewidth(2)  # Bottom spine width\n",
    "\n",
    "# Change tick mark line width\n",
    "plt.tick_params(axis='both', width=2, length=6)  # Change the tick mark width to 2\n",
    "\n",
    "# Create a custom formatter for the X-axis labels\n",
    "def custom_format(x, pos):\n",
    "    if x == 0:\n",
    "        return '0'  # For the 0 label, just display 0\n",
    "    else:\n",
    "        return f'{x:.1f}'  # For other ticks, display 1 decimal place\n",
    "\n",
    "# Set the formatter for the x-axis to apply custom formatting\n",
    "plt.gca().xaxis.set_major_formatter(ticker.FuncFormatter(custom_format))\n",
    "\n",
    "# Add labels and save the plot\n",
    "plt.xlabel('Sodium arsenite (mM)', fontsize =16)\n",
    "plt.ylabel('ATPase activity (nmol min\\u207B\\u00B9 mg\\u207B\\u00B9)', fontsize =16)\n",
    "\n",
    "print(\"WT Vmax:\", res.x[0])\n",
    "print(\"WT Km:\", res.x[1])\n",
    "\n",
    "# C173A results\n",
    "print(\"C173A Vmax:\", res_C173A.x[0])\n",
    "print(\"C173A Km:\", res_C173A.x[1])\n",
    "\n",
    "\n",
    "# Use tight_layout to adjust subplots and avoid cut-off labels\n",
    "plt.tight_layout()\n",
    "plt.savefig('LfArsA_As_activation_WT_C173A.eps', bbox_inches='tight')\n",
    "plt.show()\n",
    "\n",
    "\n"
   ]
  },
  {
   "cell_type": "code",
   "execution_count": null,
   "metadata": {},
   "outputs": [],
   "source": []
  },
  {
   "cell_type": "code",
   "execution_count": null,
   "metadata": {},
   "outputs": [],
   "source": []
  }
 ],
 "metadata": {
  "kernelspec": {
   "display_name": "Python 3",
   "language": "python",
   "name": "python3"
  },
  "language_info": {
   "codemirror_mode": {
    "name": "ipython",
    "version": 3
   },
   "file_extension": ".py",
   "mimetype": "text/x-python",
   "name": "python",
   "nbconvert_exporter": "python",
   "pygments_lexer": "ipython3",
   "version": "3.8.5"
  }
 },
 "nbformat": 4,
 "nbformat_minor": 4
}
