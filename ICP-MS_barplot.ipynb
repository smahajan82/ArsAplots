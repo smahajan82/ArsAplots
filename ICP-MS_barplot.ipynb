{
 "cells": [
  {
   "cell_type": "code",
   "execution_count": 4,
   "metadata": {},
   "outputs": [],
   "source": [
    "import matplotlib.pyplot as plt\n",
    "import numpy as np\n"
   ]
  },
  {
   "cell_type": "code",
   "execution_count": 5,
   "metadata": {},
   "outputs": [
    {
     "data": {
      "image/png": "[encoded data removed]",
      "text/plain": [
       "<Figure size 432x288 with 1 Axes>"
      ]
     },
     "metadata": {},
     "output_type": "display_data"
    }
   ],
   "source": [
    "#XAS post-run samples \n",
    "# Use a fallback font\n",
    "plt.rcParams['font.family'] = 'DejaVu Sans'\n",
    "\n",
    "# Data\n",
    "triplicate_data = {\n",
    "    'A': [18.4, 21.8, 21.7],\n",
    "    'B': [6.1, 9.0, 15.6],\n",
    "    'C': [3.5, 5.7, 8.5],\n",
    "    'D': [0.9, 0.5, 3.9],\n",
    "   \n",
    "}\n",
    "\n",
    "protein_uM = 0.313\n",
    "As_molarmass = 75\n",
    "\n",
    "means = {key: np.mean(values) for key, values in triplicate_data.items()}\n",
    "std_devs = {\n",
    "    key: np.std(values) if len(values) > 1 else 0\n",
    "    for key, values in triplicate_data.items()\n",
    "}\n",
    "\n",
    "measured_ppb = np.array(list(means.values()))\n",
    "measured_uM = measured_ppb / As_molarmass\n",
    "molar_ratios = measured_uM / protein_uM\n",
    "std_devs_normalized = np.array(list(std_devs.values())) / As_molarmass / protein_uM\n",
    "\n",
    "samples = list(triplicate_data.keys())\n",
    "x_pos = np.arange(len(samples))\n",
    "\n",
    "# Define colors for each sample\n",
    "colors = ['black', 'teal', 'gray', 'goldenrod']\n",
    "\n",
    "# Create the figure with a custom size to ensure enough room for everything\n",
    "plt.figure(figsize=(6, 4))\n",
    "\n",
    "\n",
    "# Adjust x positions for tighter spacing\n",
    "x_pos = np.linspace(0, len(samples) - 1, len(samples))  # Spread positions evenly\n",
    "\n",
    "# Reduce bar width\n",
    "bar_width = 0.5  # Reduce bar width for tighter appearance\n",
    "\n",
    "# Plot bars with only colored outlines and reduced spacing\n",
    "for i, color in enumerate(colors):\n",
    "    plt.bar(x_pos[i], molar_ratios[i], yerr=std_devs_normalized[i], capsize=5,\n",
    "            width=bar_width, edgecolor=color, linewidth=2, facecolor='none',\n",
    "            label='Mean ± SD' if i == 0 else None)\n",
    "\n",
    "    # Set error bars to the same color as scatter dots\n",
    "    plt.errorbar(x_pos[i], molar_ratios[i], yerr=std_devs_normalized[i],\n",
    "                 color=color, capsize=5, linestyle='None', elinewidth=2)\n",
    "\n",
    "# Overlay individual data points with matching scatter colors\n",
    "for i, (key, values) in enumerate(triplicate_data.items()):\n",
    "    # Normalize individual data points\n",
    "    normalized_values = np.array(values) / As_molarmass / protein_uM\n",
    "    plt.scatter([x_pos[i]] * len(values), normalized_values,\n",
    "                color=colors[i], zorder=5, label='Individual data' if i == 0 else None)\n",
    "    \n",
    "# Customize x-axis labels to match bar colors\n",
    "ax = plt.gca()\n",
    "ax.set_xticks(x_pos)\n",
    "ax.set_xticklabels(samples, fontsize=16, weight='normal')\n",
    "\n",
    "# Color each x-label\n",
    "for xtick, color in zip(ax.get_xticklabels(), colors):\n",
    "    xtick.set_color(color)\n",
    "\n",
    "plt.ylim(0,1)\n",
    "\n",
    "# Customize plot\n",
    "plt.xticks(x_pos, samples, ha='right', fontsize=16, weight='normal')\n",
    "plt.yticks(fontsize=16, weight='normal')  # Make y-axis values not bold\n",
    "plt.ylabel('As/ArsA molar ratio', fontsize=16, weight='normal')\n",
    "\n",
    "# Increase tick mark size\n",
    "plt.tick_params(axis='both', length=5, width=2)  # Increase tick mark length and width\n",
    "\n",
    "\n",
    "# Modify spines\n",
    "ax = plt.gca()  # Get current axis\n",
    "ax.spines['top'].set_visible(False)  # Remove top spine\n",
    "ax.spines['right'].set_visible(False)  # Remove right spine\n",
    "ax.spines['left'].set_linewidth(2)  # Make left spine thicker\n",
    "ax.spines['bottom'].set_linewidth(2)  # Make bottom spine thicker\n",
    "\n",
    "# Adjust layout to fit everything in the figure box\n",
    "plt.tight_layout(pad=3.0)  # Increase padding\n",
    "\n",
    "# Save plot in EPS format\n",
    "plt.savefig('20250131_ICPMS.eps', format='eps', dpi=300)\n",
    "plt.show()"
   ]
  },
  {
   "cell_type": "code",
   "execution_count": null,
   "metadata": {},
   "outputs": [],
   "source": []
  }
 ],
 "metadata": {
  "kernelspec": {
   "display_name": "Python 3",
   "language": "python",
   "name": "python3"
  },
  "language_info": {
   "codemirror_mode": {
    "name": "ipython",
    "version": 3
   },
   "file_extension": ".py",
   "mimetype": "text/x-python",
   "name": "python",
   "nbconvert_exporter": "python",
   "pygments_lexer": "ipython3",
   "version": "3.8.5"
  }
 },
 "nbformat": 4,
 "nbformat_minor": 4
}
